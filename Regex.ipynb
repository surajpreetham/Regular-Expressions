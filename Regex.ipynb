{
 "cells": [
  {
   "cell_type": "markdown",
   "metadata": {},
   "source": [
    "# <span style=\"color:brown\">Regular Expressions"
   ]
  },
  {
   "cell_type": "markdown",
   "metadata": {},
   "source": [
    "##### A `regular expression` is a sequence of characters that defines a search `pattern`, mainly for use in `pattern matching` with strings, or string matching, i.e.\"find and replace\"-like operations."
   ]
  },
  {
   "cell_type": "markdown",
   "metadata": {},
   "source": [
    "### Lets list a few expressions"
   ]
  },
  {
   "cell_type": "markdown",
   "metadata": {},
   "source": [
    "- (.) --> Any character except new line\n",
    "- (\\d) --> a digit\n",
    "- (\\D) --> Not a digit\n",
    "\n",
    "- (\\w) --> a word character (A-Z, a-z, 0-9, _)\n",
    "- (\\W) --> Not a word character\n",
    "\n",
    "- (\\s) --> Whitespace character (space, tab, newline)\n",
    "- (\\S) --> Not a Whitespace character\n",
    "\n",
    "- (\\b) --> Word boundary\n",
    "- (\\B) --> Not a word boundary\n",
    "\n",
    "- (^) --> beginning of a string\n",
    "- ($) --> End of a string\n",
    "- (x|y|z) --> exactly one of x, y or z.\n",
    "\n",
    "- [a-z0-9]\tThe set of characters can include a range\n",
    "- [aeiou]\tMatches a single character in the listed set\n",
    "- [^XYZ]\tMatches a single character not in the listed set\n",
    "- (\tIndicates where string extraction is to start\n",
    "- )\tIndicates where string extraction is to end\n",
    "\n",
    "- [] --> matches characters in brackets\n",
    "- [^ ] --> matches characters not in brackets"
   ]
  },
  {
   "cell_type": "markdown",
   "metadata": {},
   "source": [
    "(x)  in general is a remembered group. We can get the value of what matched by using the groups() method of the object returned by re.search. <br>\n",
    "x?  matches an optional x character (in other words, it matches an x zero or one times). <br>\n",
    "x*  matches x zero or more times. <br>\n",
    "x+  matches x one or more times. <br>\n",
    "x{m,n} matches an x character at least m times, but not more than n times. <br>\n",
    "?:  matches an expression but do not capture it. Non capturing group. <br>\n",
    "?=  matches a suffix but exclude it from capture. Positive look ahead. <br>\n",
    "a(?=b) will match the \"a\" in \"ab\", but not the \"a\" in \"ac\" <br>\n",
    "In other words, a(?=b) matches the \"a\" which is followed by the string 'b', without consuming what follows the a.<br>\n",
    "?!  matches if suffix is absent. Negative look ahead.<br>\n",
    "a(?!b) will match the \"a\" in \"ac\", but not the \"a\" in \"ab\"<br>\n",
    "?<=  positive look behind <br>\n",
    "?<!  negative look behind <br>\n",
    "\n",
    "*\tRepeats a character zero or more times <br>\n",
    "\\S\tMatches any non-whitespace character <br>\n",
    "*?\tRepeats a character zero or more times (non-greedy) <br>\n",
    "+\tRepeats a character one or more times <br>\n",
    "+?\tRepeats a character one or more times (non-greedy) <br>"
   ]
  },
  {
   "cell_type": "code",
   "execution_count": 3,
   "metadata": {},
   "outputs": [],
   "source": [
    "import re # Import regular expression library"
   ]
  },
  {
   "cell_type": "markdown",
   "metadata": {},
   "source": [
    "#### Example-1"
   ]
  },
  {
   "cell_type": "code",
   "execution_count": 10,
   "metadata": {},
   "outputs": [
    {
     "name": "stdout",
     "output_type": "stream",
     "text": [
      "The hackerrank team is on a mission to flatten the world by restructuring the DNA of every company on the planet. We rank programmers based on their coding skills, helping companies source great programmers and reduce the time to hire. As a result, we are revolutionizing the way companies discover and evaluate talented engineers. The hackerrank platform is the destination for the best engineers to hone their skills and companies to find top engineers.\n"
     ]
    }
   ],
   "source": [
    "Test_string = 'The hackerrank team is on a mission to flatten the world by restructuring the DNA of every company on the planet. We rank programmers based on their coding skills, helping companies source great programmers and reduce the time to hire. As a result, we are revolutionizing the way companies discover and evaluate talented engineers. The hackerrank platform is the destination for the best engineers to hone their skills and companies to find top engineers.'\n",
    "print(Test_string)"
   ]
  },
  {
   "cell_type": "code",
   "execution_count": 23,
   "metadata": {},
   "outputs": [
    {
     "name": "stdout",
     "output_type": "stream",
     "text": [
      "hackerrank\n"
     ]
    }
   ],
   "source": [
    "Regex_Pattern = r'hackerrank'\n",
    "print(Regex_Pattern)"
   ]
  },
  {
   "cell_type": "code",
   "execution_count": 9,
   "metadata": {},
   "outputs": [
    {
     "name": "stdout",
     "output_type": "stream",
     "text": [
      "'The hackerrank team is on a mission to flatten the world by restructuring the DNA of every company on the planet. We rank programmers based on their coding skills, helping companies source great programmers and reduce the time to hire. As a result, we are revolutionizing the way companies discover and evaluate talented engineers. The hackerrank platform is the destination for the best engineers to hone their skills and companies to find top engineers.'\n",
      "Number of matches : 2\n"
     ]
    }
   ],
   "source": [
    "import re\n",
    "Test_String = input()\n",
    "match = re.findall(Regex_Pattern, Test_String)\n",
    "print(\"Number of matches :\", len(match))"
   ]
  },
  {
   "cell_type": "markdown",
   "metadata": {},
   "source": [
    "- '/s' in regex indicates a white space"
   ]
  },
  {
   "cell_type": "code",
   "execution_count": 11,
   "metadata": {},
   "outputs": [
    {
     "data": {
      "text/plain": [
       "['coding skills']"
      ]
     },
     "execution_count": 11,
     "metadata": {},
     "output_type": "execute_result"
    }
   ],
   "source": [
    "Regex_Pattern_2 = r'coding\\sskills' # \\s indicates white space\n",
    "re.findall(Regex_Pattern_2,Test_String)"
   ]
  },
  {
   "cell_type": "markdown",
   "metadata": {},
   "source": [
    "#### Example-2"
   ]
  },
  {
   "cell_type": "code",
   "execution_count": null,
   "metadata": {},
   "outputs": [],
   "source": [
    "regex_pattern = r\"^...\\....\\....\\....$\" # Do not delete 'r'."
   ]
  },
  {
   "cell_type": "markdown",
   "metadata": {},
   "source": [
    "<mark style=\"background:yellow\">The above pattern matches wih a string of format \"abc.def.xyz.ghj\" where the variables can be anything except newline"
   ]
  },
  {
   "cell_type": "markdown",
   "metadata": {},
   "source": [
    "#### Example-3"
   ]
  },
  {
   "cell_type": "code",
   "execution_count": 26,
   "metadata": {},
   "outputs": [
    {
     "data": {
      "text/plain": [
       "['2', '3', '6', '8', '6', '8', '5']"
      ]
     },
     "execution_count": 26,
     "metadata": {},
     "output_type": "execute_result"
    }
   ],
   "source": [
    "# Search for a number in the given text\n",
    "text = \"This is session on 23 of this 68685 month\" \n",
    "re.findall(r'\\d',text) # a single digit"
   ]
  },
  {
   "cell_type": "code",
   "execution_count": 27,
   "metadata": {},
   "outputs": [
    {
     "data": {
      "text/plain": [
       "['23', '68685']"
      ]
     },
     "execution_count": 27,
     "metadata": {},
     "output_type": "execute_result"
    }
   ],
   "source": [
    "re.findall('\\d+',text) # gives the full number"
   ]
  },
  {
   "cell_type": "code",
   "execution_count": 13,
   "metadata": {},
   "outputs": [],
   "source": [
    "Regex_Pattern_3 = r\"\\d\\d\\D\\d\\d\\D\\d\\d\\d\\d\" # string of form \"aaAaaAaaaa\" where a->digit; A->non-digit"
   ]
  },
  {
   "cell_type": "code",
   "execution_count": 20,
   "metadata": {},
   "outputs": [
    {
     "name": "stdout",
     "output_type": "stream",
     "text": [
      "01-01-2022\n",
      "true\n"
     ]
    }
   ],
   "source": [
    "print(str(bool(re.search(Regex_Pattern_3, input()))).lower())"
   ]
  },
  {
   "cell_type": "code",
   "execution_count": 22,
   "metadata": {},
   "outputs": [
    {
     "name": "stdout",
     "output_type": "stream",
     "text": [
      "Abdul Kalam is born on 15-10-1931\n",
      "['15-10-1931']\n"
     ]
    }
   ],
   "source": [
    "print(str(re.findall(Regex_Pattern_4, input())))"
   ]
  },
  {
   "cell_type": "markdown",
   "metadata": {},
   "source": [
    "#### Example-4"
   ]
  },
  {
   "cell_type": "code",
   "execution_count": 33,
   "metadata": {},
   "outputs": [
    {
     "data": {
      "text/plain": [
       "<re.Match object; span=(27, 46), match='%$#$%@#$#$\"shifting'>"
      ]
     },
     "execution_count": 33,
     "metadata": {},
     "output_type": "execute_result"
    }
   ],
   "source": [
    "## Searching for random words in the text\n",
    "text = 'This is abstract from book %$#$%@#$#$\"shifting org culture\", sai@gmail.com sai@skillovilla.com 127.87.23.90 and 83.34.23.23 Author: Ashok  year 1987'\n",
    "text\n",
    "re.search(r'\\S+@\\S+',text) # \\S refers to all the not a white space characters"
   ]
  },
  {
   "cell_type": "code",
   "execution_count": 34,
   "metadata": {},
   "outputs": [
    {
     "data": {
      "text/plain": [
       "[' %$#$%@#$#$\"shifting', ' sai@gmail.com', ' sai@skillovilla.com']"
      ]
     },
     "execution_count": 34,
     "metadata": {},
     "output_type": "execute_result"
    }
   ],
   "source": [
    "re.findall(r' \\S+@\\S+', text)"
   ]
  },
  {
   "cell_type": "code",
   "execution_count": 35,
   "metadata": {},
   "outputs": [
    {
     "data": {
      "text/plain": [
       "['127.87.23.90', '83.34.23.23']"
      ]
     },
     "execution_count": 35,
     "metadata": {},
     "output_type": "execute_result"
    }
   ],
   "source": [
    "## searching string of numbers separted with some special character(in this cas ips)\n",
    "# b matches word boundary , (?:[0-9]{1,3}\\.) group {3} 3 times,  [0-9]{1,3}  last block without '.'\n",
    "s=  re.findall(r'\\b(?:[0-9]{1,3}\\.){3}[0-9]{1,3}\\b',text)\n",
    "s"
   ]
  },
  {
   "cell_type": "code",
   "execution_count": 36,
   "metadata": {},
   "outputs": [
    {
     "data": {
      "text/plain": [
       "'This is abstract from book %$#$%@#$#$\"shifting org culture\", sai@gmail.com sai@skillovilla.com 127.0.0.1 and 127.0.0.1 Author: Ashok  year 1987'"
      ]
     },
     "execution_count": 36,
     "metadata": {},
     "output_type": "execute_result"
    }
   ],
   "source": [
    "## adding new ip\n",
    "new_ip = '127.0.0.1'\n",
    "replaced = re.sub(r'\\b(?:[0-9]{1,3}\\.){3}[0-9]{1,3}\\b', new_ip, text)\n",
    "replaced"
   ]
  },
  {
   "cell_type": "code",
   "execution_count": 13,
   "metadata": {},
   "outputs": [
    {
     "data": {
      "text/plain": [
       "'emergencies'"
      ]
     },
     "execution_count": 13,
     "metadata": {},
     "output_type": "execute_result"
    }
   ],
   "source": [
    "#re.sub()  The re.sub() function performs regular expression-based string substitutions\n",
    "re.sub('y$', 'ies', 'emergency')"
   ]
  },
  {
   "cell_type": "code",
   "execution_count": 5,
   "metadata": {},
   "outputs": [],
   "source": [
    "Regex_Pattern_4 = r\"\\S\\S\\s\\S\\S\\s\\S\\S\" # string of form \"YYyYYyYY\" where Y->non-whitespaces y->whitespace"
   ]
  },
  {
   "cell_type": "code",
   "execution_count": 8,
   "metadata": {},
   "outputs": [
    {
     "name": "stdout",
     "output_type": "stream",
     "text": [
      "welcome to skillovilla, have a great future ahead.\n",
      "true\n"
     ]
    }
   ],
   "source": [
    "print(str(bool(re.search(Regex_Pattern_4, input()))).lower())"
   ]
  },
  {
   "cell_type": "code",
   "execution_count": 29,
   "metadata": {},
   "outputs": [
    {
     "name": "stdout",
     "output_type": "stream",
     "text": [
      "I don't know what they are working on. But I can assure that its one of the best based on their early work.\n",
      "['ne of th', 'ed on th']\n"
     ]
    }
   ],
   "source": [
    "print(str(re.findall(Regex_Pattern_4, input())))"
   ]
  },
  {
   "cell_type": "markdown",
   "metadata": {},
   "source": [
    "#### Example-5"
   ]
  },
  {
   "cell_type": "code",
   "execution_count": 10,
   "metadata": {},
   "outputs": [],
   "source": [
    "Regex_Pattern_5 = r\"\\w\\w\\w\\W\\w\\W\\w\\W\" # string of form \"bbbBbBbB\" b-->word B->Not a word"
   ]
  },
  {
   "cell_type": "markdown",
   "metadata": {},
   "source": [
    "#### Example-6"
   ]
  },
  {
   "cell_type": "code",
   "execution_count": 11,
   "metadata": {},
   "outputs": [],
   "source": [
    "Regex_Pattern_6 = r\"^\\d\\w\\w\\w\\w\\.$\" #Ggggg. G->Word character g->digit"
   ]
  },
  {
   "cell_type": "markdown",
   "metadata": {},
   "source": [
    "#### Example-7"
   ]
  },
  {
   "cell_type": "code",
   "execution_count": 14,
   "metadata": {},
   "outputs": [
    {
     "data": {
      "text/plain": [
       "<re.Match object; span=(41, 45), match='most'>"
      ]
     },
     "execution_count": 14,
     "metadata": {},
     "output_type": "execute_result"
    }
   ],
   "source": [
    "## searching a word from the text\n",
    "text = 'The cyber security has become one of the most important aspect of the business. \\\n",
    "$550 million has been invested research. 12.45.65.78 is one the most spammed inject ips. \\\n",
    "ask@web.com. $600 million wasted. save safe.'\n",
    "re.search('most',text)"
   ]
  },
  {
   "cell_type": "code",
   "execution_count": 15,
   "metadata": {},
   "outputs": [
    {
     "data": {
      "text/plain": [
       "'most'"
      ]
     },
     "execution_count": 15,
     "metadata": {},
     "output_type": "execute_result"
    }
   ],
   "source": [
    "text[41:45]"
   ]
  },
  {
   "cell_type": "code",
   "execution_count": 16,
   "metadata": {},
   "outputs": [
    {
     "data": {
      "text/plain": [
       "['most', 'most']"
      ]
     },
     "execution_count": 16,
     "metadata": {},
     "output_type": "execute_result"
    }
   ],
   "source": [
    "\n",
    "re.findall('most',text)"
   ]
  },
  {
   "cell_type": "markdown",
   "metadata": {},
   "source": [
    "#### Example-8"
   ]
  },
  {
   "cell_type": "code",
   "execution_count": 17,
   "metadata": {},
   "outputs": [
    {
     "data": {
      "text/plain": [
       "['save', 'safe', 'sale']"
      ]
     },
     "execution_count": 17,
     "metadata": {},
     "output_type": "execute_result"
    }
   ],
   "source": [
    "text = 'The cyber security has become one of the most important ascept of the business. \\\n",
    "$550 million has been invested research. 12.45.65.78 is one the most spammed inject ips. \\\n",
    "ask@web.com. $600 million wasted. save safe. sale. hi5@connect.com'\n",
    "\n",
    "re.findall('sa.e',text)"
   ]
  },
  {
   "cell_type": "code",
   "execution_count": 18,
   "metadata": {},
   "outputs": [
    {
     "data": {
      "text/plain": [
       "['safe']"
      ]
     },
     "execution_count": 18,
     "metadata": {},
     "output_type": "execute_result"
    }
   ],
   "source": [
    "re.findall('safe|saze',text)"
   ]
  },
  {
   "cell_type": "code",
   "execution_count": 19,
   "metadata": {},
   "outputs": [
    {
     "data": {
      "text/plain": [
       "['$550']"
      ]
     },
     "execution_count": 19,
     "metadata": {},
     "output_type": "execute_result"
    }
   ],
   "source": [
    "re.findall('\\$550',text)"
   ]
  },
  {
   "cell_type": "code",
   "execution_count": 20,
   "metadata": {},
   "outputs": [
    {
     "data": {
      "text/plain": [
       "['550', '12', '45', '65', '78', '600', '5']"
      ]
     },
     "execution_count": 20,
     "metadata": {},
     "output_type": "execute_result"
    }
   ],
   "source": [
    "re.findall('\\d+',text)"
   ]
  },
  {
   "cell_type": "code",
   "execution_count": 21,
   "metadata": {},
   "outputs": [
    {
     "data": {
      "text/plain": [
       "['he',\n",
       " 'cyber',\n",
       " 'security',\n",
       " 'has',\n",
       " 'become',\n",
       " 'one',\n",
       " 'of',\n",
       " 'the',\n",
       " 'most',\n",
       " 'important',\n",
       " 'ascept',\n",
       " 'of',\n",
       " 'the',\n",
       " 'business',\n",
       " 'million',\n",
       " 'has',\n",
       " 'been',\n",
       " 'invested',\n",
       " 'research',\n",
       " 'is',\n",
       " 'one',\n",
       " 'the',\n",
       " 'most',\n",
       " 'spammed',\n",
       " 'inject',\n",
       " 'ips',\n",
       " 'ask',\n",
       " 'web',\n",
       " 'com',\n",
       " 'million',\n",
       " 'wasted',\n",
       " 'save',\n",
       " 'safe',\n",
       " 'sale',\n",
       " 'hi',\n",
       " 'connect',\n",
       " 'com']"
      ]
     },
     "execution_count": 21,
     "metadata": {},
     "output_type": "execute_result"
    }
   ],
   "source": [
    "re.findall('[a-z]+',text)"
   ]
  },
  {
   "cell_type": "code",
   "execution_count": 22,
   "metadata": {},
   "outputs": [
    {
     "data": {
      "text/plain": [
       "['ask@web.com', 'hi5@connect.com']"
      ]
     },
     "execution_count": 22,
     "metadata": {},
     "output_type": "execute_result"
    }
   ],
   "source": [
    "re.findall('[a-z0-9]+@[a-z0-9]+.com',text)"
   ]
  },
  {
   "cell_type": "markdown",
   "metadata": {},
   "source": [
    "#### Example-9"
   ]
  },
  {
   "cell_type": "code",
   "execution_count": 32,
   "metadata": {},
   "outputs": [
    {
     "data": {
      "text/plain": [
       "[('098', '445', '2016')]"
      ]
     },
     "execution_count": 32,
     "metadata": {},
     "output_type": "execute_result"
    }
   ],
   "source": [
    "# Examples for Phone numbers\n",
    "text = \" Please call this number (098) (0445).(2016) in case of emergency\"\n",
    "Regex_Pattern_9 = \".?(\\\\d{3}).*(\\\\d{3}).*(\\\\d{4})\"\n",
    "re.findall(Regex_Pattern_9,text)"
   ]
  },
  {
   "cell_type": "raw",
   "metadata": {},
   "source": [
    "## Examples for date and url patterns\n",
    "date_pattern = \"(\\\\d{2}).(\\\\d{2}).(\\\\d{4})\"\n",
    "url_pattern = \"(https?)://(www)?.?(\\\\w+).(\\\\w+)/?(\\\\w+)?\""
   ]
  },
  {
   "cell_type": "markdown",
   "metadata": {},
   "source": [
    "#### Example-10"
   ]
  },
  {
   "cell_type": "code",
   "execution_count": 4,
   "metadata": {},
   "outputs": [],
   "source": [
    "## Searching email from the text data.\n",
    "emailtext = 'ok take this to the next level from a google@skillovilla.com productivity standpoint zed each info@ernet.co.in time you send an infoi@gmail.com email'"
   ]
  },
  {
   "cell_type": "code",
   "execution_count": 5,
   "metadata": {},
   "outputs": [
    {
     "data": {
      "text/plain": [
       "['google@skillovilla.com', 'info@ernet.co', 'infoi@gmail.com']"
      ]
     },
     "execution_count": 5,
     "metadata": {},
     "output_type": "execute_result"
    }
   ],
   "source": [
    "re.findall(r'[a-zA-Z0-9]+@[a-zA-Z0-9]+.[a-z]+',emailtext) #any character in the range is considered with square brackets"
   ]
  },
  {
   "cell_type": "code",
   "execution_count": 6,
   "metadata": {},
   "outputs": [
    {
     "data": {
      "text/plain": [
       "['google@skillovilla.com', 'info@ernet.co.in', 'infoi@gmail.com']"
      ]
     },
     "execution_count": 6,
     "metadata": {},
     "output_type": "execute_result"
    }
   ],
   "source": [
    "re.findall('\\S+@\\S+', emailtext) # \\S stands for not a white space character"
   ]
  },
  {
   "cell_type": "markdown",
   "metadata": {},
   "source": [
    "# <mark style=\"background:lightgreen\">Thank You"
   ]
  }
 ],
 "metadata": {
  "kernelspec": {
   "display_name": "Python 3 (ipykernel)",
   "language": "python",
   "name": "python3"
  },
  "language_info": {
   "codemirror_mode": {
    "name": "ipython",
    "version": 3
   },
   "file_extension": ".py",
   "mimetype": "text/x-python",
   "name": "python",
   "nbconvert_exporter": "python",
   "pygments_lexer": "ipython3",
   "version": "3.9.12"
  }
 },
 "nbformat": 4,
 "nbformat_minor": 4
}
